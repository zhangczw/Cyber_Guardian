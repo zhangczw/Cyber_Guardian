{
 "cells": [
  {
   "cell_type": "markdown",
   "id": "ef28705e-d332-4050-b1ea-bc7929146832",
   "metadata": {},
   "source": [
    "# Cyber Guardian"
   ]
  },
  {
   "cell_type": "markdown",
   "id": "1deb793e-9dae-4a0c-9b8a-c572728e486e",
   "metadata": {},
   "source": [
    "## Description\n",
    "\n",
    "Cyber Guardian is a comprehensive application developed by Weiqi Zhang, designed to secure documents through cryptographic operations. The application offers encryption, decryption, signing, and verification functionalities, ensuring data integrity and confidentiality. It also provides a user-friendly interface for managing users and interacting with documents securely.\n"
   ]
  },
  {
   "cell_type": "markdown",
   "id": "a9d26f38-c6a4-4994-a5d8-e1fe2d66157f",
   "metadata": {},
   "source": [
    "## Setup and Imports\n",
    "\n",
    "This section imports all necessary libraries required for the application to function, including handling encryption, storing user data, and creating GUI elements.\n"
   ]
  },
  {
   "cell_type": "code",
   "execution_count": 1,
   "id": "4bf0fa3e-8141-4765-925a-c2872e16a831",
   "metadata": {},
   "outputs": [],
   "source": [
    "import os\n",
    "import json\n",
    "import bcrypt\n",
    "import keyring\n",
    "from datetime import datetime\n",
    "import ipywidgets as widgets\n",
    "from IPython.display import display, clear_output\n",
    "import base64\n",
    "from nacl.signing import SigningKey, VerifyKey\n",
    "from nacl.secret import SecretBox\n",
    "from nacl.encoding import HexEncoder, Base64Encoder\n",
    "\n",
    "# Admin credentials\n",
    "ADMIN_USERNAME = ''\n",
    "ADMIN_PASSWORD_HASH = bcrypt.hashpw(''.encode(), bcrypt.gensalt())\n",
    "\n",
    "# File path for storing user credentials\n",
    "file_path = 'Cyber_Guard_File.json'\n",
    "\n",
    "# Generate a new signing key\n",
    "signing_key = SigningKey.generate()\n",
    "verify_key = signing_key.verify_key\n",
    "\n",
    "# Encode the verify key to store it\n",
    "encoded_verify_key = verify_key.encode(encoder=HexEncoder)\n",
    "\n",
    "# Save the encoded verify key in the keyring\n",
    "keyring.set_password(\"CyberGuardian\", \"public_signing_key\", encoded_verify_key.decode())\n"
   ]
  },
  {
   "cell_type": "markdown",
   "id": "93f468de-02b8-41e6-abc4-1ebc7176253d",
   "metadata": {},
   "source": [
    "## Helper Functions\n",
    "\n",
    "These functions load and save user data securely, handle password encryption and verification, and manage local storage.\n"
   ]
  },
  {
   "cell_type": "code",
   "execution_count": 2,
   "id": "16b53a56-043a-440b-b8ad-f73af8092e12",
   "metadata": {},
   "outputs": [],
   "source": [
    "def load_users():\n",
    "    try:\n",
    "        with open(file_path, 'r') as file:\n",
    "            return json.load(file)\n",
    "    except FileNotFoundError:\n",
    "        print(\"User data file not found. Creating a new one.\")\n",
    "        return {}\n",
    "    except json.JSONDecodeError:\n",
    "        print(\"Error decoding JSON. Check file format.\")\n",
    "        return {}\n",
    "\n",
    "def save_users(users):\n",
    "    with open(file_path, 'w') as file:\n",
    "        json.dump(users, file, indent=4)\n",
    "    print(\"Users saved successfully.\")\n",
    "\n",
    "def hash_password(password):\n",
    "    return bcrypt.hashpw(password.encode(), bcrypt.gensalt()).decode()\n",
    "\n",
    "def check_password(hashed_password, user_password):\n",
    "    return bcrypt.checkpw(user_password.encode(), hashed_password.encode())\n"
   ]
  },
  {
   "cell_type": "code",
   "execution_count": 3,
   "id": "5846cef8-b5ae-48fe-b135-ace9ec00e9ee",
   "metadata": {},
   "outputs": [
    {
     "name": "stdout",
     "output_type": "stream",
     "text": [
      "Test verification successful!\n"
     ]
    }
   ],
   "source": [
    "def test_sign_and_verify(document_path):\n",
    "    # Generate a new signing key for testing\n",
    "    signing_key = SigningKey.generate()\n",
    "    verify_key = signing_key.verify_key\n",
    "\n",
    "    # Store and retrieve keys (simulate key management)\n",
    "    keyring.set_password(\"test\", \"signing_key\", signing_key.encode(encoder=HexEncoder).decode())\n",
    "    keyring.set_password(\"test\", \"verify_key\", verify_key.encode(encoder=HexEncoder).decode())\n",
    "\n",
    "    # Check if the document path exists\n",
    "    if not os.path.exists(document_path):\n",
    "        print(f\"Document not found: {document_path}\")\n",
    "        return\n",
    "\n",
    "    # Read the document\n",
    "    with open(document_path, 'rb') as f:\n",
    "        document_content = f.read()\n",
    "\n",
    "    # Sign the document\n",
    "    signing_key_encoded = keyring.get_password(\"test\", \"signing_key\").encode()\n",
    "    signing_key = SigningKey(signing_key_encoded, encoder=HexEncoder)\n",
    "    signature = signing_key.sign(document_content).signature\n",
    "\n",
    "    # Verify the signature\n",
    "    verify_key_encoded = keyring.get_password(\"test\", \"verify_key\").encode()\n",
    "    verify_key = VerifyKey(verify_key_encoded, encoder=HexEncoder)\n",
    "    try:\n",
    "        verify_key.verify(document_content, signature)\n",
    "        print(\"Test verification successful!\")\n",
    "    except Exception as e:\n",
    "        print(\"Test verification failed:\", e)\n",
    "\n",
    "# Set the document path relative to the current working directory\n",
    "current_directory = os.getcwd()\n",
    "document_file = os.path.join(current_directory, \"test.pdf\")\n",
    "\n",
    "test_sign_and_verify(document_file)\n"
   ]
  },
  {
   "cell_type": "code",
   "execution_count": 4,
   "id": "8cd13891-e003-4739-9c4a-a4c8c2ff56f8",
   "metadata": {},
   "outputs": [
    {
     "name": "stdout",
     "output_type": "stream",
     "text": [
      "New keys generated and stored.\n"
     ]
    }
   ],
   "source": [
    "from nacl.signing import SigningKey\n",
    "from nacl.encoding import HexEncoder\n",
    "import keyring\n",
    "\n",
    "# Generate a new key pair\n",
    "new_signing_key = SigningKey.generate()\n",
    "new_verify_key = new_signing_key.verify_key\n",
    "\n",
    "# Encode and store keys securely\n",
    "keyring.set_password(\"CyberGuardian\", \"signing_key\", new_signing_key.encode(encoder=HexEncoder).decode())\n",
    "keyring.set_password(\"CyberGuardian\", \"public_signing_key\", new_verify_key.encode(encoder=HexEncoder).decode())\n",
    "\n",
    "print(\"New keys generated and stored.\")"
   ]
  },
  {
   "cell_type": "code",
   "execution_count": 5,
   "id": "690c4a59-3332-4304-bab3-7abc3ece5309",
   "metadata": {},
   "outputs": [
    {
     "name": "stdout",
     "output_type": "stream",
     "text": [
      "Stored Signing Key: 5a2733f7b0f0a49d4e136b51fea1e50f4ecea0a16b230878200006de5d665eb0\n",
      "Stored Verification Key: b4c5c69531170b2730dcc6999bc9e01e040c92ef2752fa4defc2bbb44b8f40ad\n"
     ]
    }
   ],
   "source": [
    "stored_signing_key = keyring.get_password(\"CyberGuardian\", \"signing_key\")\n",
    "stored_verify_key = keyring.get_password(\"CyberGuardian\", \"public_signing_key\")\n",
    "\n",
    "print(\"Stored Signing Key:\", stored_signing_key)\n",
    "print(\"Stored Verification Key:\", stored_verify_key)\n"
   ]
  },
  {
   "cell_type": "code",
   "execution_count": 6,
   "id": "fe401af7-be0c-46b2-9f38-f542c16ce53a",
   "metadata": {},
   "outputs": [
    {
     "name": "stdout",
     "output_type": "stream",
     "text": [
      "Signature verified successfully!\n"
     ]
    }
   ],
   "source": [
    "def test_key_functionality():\n",
    "    signing_key_encoded = keyring.get_password(\"CyberGuardian\", \"signing_key\").encode()\n",
    "    verify_key_encoded = keyring.get_password(\"CyberGuardian\", \"public_signing_key\").encode()\n",
    "\n",
    "    signing_key = SigningKey(signing_key_encoded, encoder=HexEncoder)\n",
    "    verify_key = VerifyKey(verify_key_encoded, encoder=HexEncoder)\n",
    "\n",
    "    # Test signing and verifying\n",
    "    message = b\"Hello, this is a test message!\"\n",
    "    signature = signing_key.sign(message).signature\n",
    "    try:\n",
    "        verify_key.verify(message, signature)\n",
    "        print(\"Signature verified successfully!\")\n",
    "    except Exception as e:\n",
    "        print(\"Failed to verify signature:\", str(e))\n",
    "\n",
    "test_key_functionality()"
   ]
  },
  {
   "cell_type": "code",
   "execution_count": 7,
   "id": "25f24bec-baea-4e61-ad53-d133c87a75e7",
   "metadata": {},
   "outputs": [
    {
     "name": "stdout",
     "output_type": "stream",
     "text": [
      "Document signed successfully. Signature saved as /Users/weiqizhang/DSD_content/Cyber_Guard_Fil/test.pdf.sig\n"
     ]
    }
   ],
   "source": [
    "def sign_document(file_path):\n",
    "    \"\"\"\n",
    "    Sign the document specified by file_path and save the signature.\n",
    "    \"\"\"\n",
    "    try:\n",
    "        # Retrieve the private signing key from secure storage\n",
    "        signing_key_encoded = keyring.get_password(\"CyberGuardian\", \"signing_key\")\n",
    "        if not signing_key_encoded:\n",
    "            print(\"Signing key not found in keyring.\")\n",
    "            return\n",
    "        \n",
    "        signing_key = SigningKey(signing_key_encoded.encode(), encoder=HexEncoder)\n",
    "\n",
    "        # Read the document content\n",
    "        with open(file_path, 'rb') as f:\n",
    "            document_content = f.read()\n",
    "\n",
    "        # Sign the document\n",
    "        signature = signing_key.sign(document_content).signature\n",
    "\n",
    "        # Save the signature to a file\n",
    "        signature_file_path = file_path + '.sig'\n",
    "        with open(signature_file_path, 'wb') as f:\n",
    "            f.write(signature)\n",
    "        \n",
    "        print(f\"Document signed successfully. Signature saved as {signature_file_path}\")\n",
    "    except Exception as e:\n",
    "        print(f\"An error occurred during the signing process: {str(e)}\")\n",
    "\n",
    "# Example use\n",
    "current_directory = os.getcwd()\n",
    "document_file = os.path.join(current_directory, \"test.pdf\")\n",
    "\n",
    "sign_document(document_file)"
   ]
  },
  {
   "cell_type": "code",
   "execution_count": 8,
   "id": "e3c03be2-8703-45cf-be88-790609344e59",
   "metadata": {},
   "outputs": [
    {
     "name": "stdout",
     "output_type": "stream",
     "text": [
      "Verification successful for /Users/weiqizhang/DSD_content/Cyber_Guard_Fil/test.pdf\n"
     ]
    }
   ],
   "source": [
    "from nacl.signing import VerifyKey\n",
    "from nacl.encoding import HexEncoder\n",
    "import keyring\n",
    "import os\n",
    "\n",
    "def verify_document(document_path, signature_path):\n",
    "    \"\"\"\n",
    "    Verify the document at document_path using the signature in signature_path.\n",
    "    \"\"\"\n",
    "    try:\n",
    "        # Retrieve the public key from secure storage\n",
    "        verify_key_encoded = keyring.get_password(\"CyberGuardian\", \"public_signing_key\")\n",
    "        if not verify_key_encoded:\n",
    "            print(\"Verification key not found in keyring.\")\n",
    "            return\n",
    "        \n",
    "        verify_key = VerifyKey(verify_key_encoded.encode(), encoder=HexEncoder)\n",
    "\n",
    "        # Read the document content\n",
    "        with open(document_path, 'rb') as f:\n",
    "            document_content = f.read()\n",
    "\n",
    "        # Read the signature\n",
    "        with open(signature_path, 'rb') as f:\n",
    "            signature = f.read()\n",
    "\n",
    "        # Verify the signature\n",
    "        verify_key.verify(document_content, signature)\n",
    "        print(f\"Verification successful for {document_path}\")\n",
    "    except Exception as e:\n",
    "        print(f\"An error occurred during the verification process: {str(e)}\")\n",
    "\n",
    "# Set paths relative to the current working directory\n",
    "current_directory = os.getcwd()\n",
    "document_file = os.path.join(current_directory, \"test.pdf\")\n",
    "signature_file = os.path.join(current_directory, \"test.pdf.sig\")\n",
    "\n",
    "verify_document(document_file, signature_file)"
   ]
  },
  {
   "cell_type": "markdown",
   "id": "236a0e43-c230-461e-98d7-e609fce7d620",
   "metadata": {},
   "source": [
    "## User Registration and Login\n",
    "\n",
    "Handles user authentication and registration, checking credentials against stored data and directing users to appropriate functionalities.\n"
   ]
  },
  {
   "cell_type": "code",
   "execution_count": 9,
   "id": "08b79e85-7443-44b1-b17f-3057c580b664",
   "metadata": {},
   "outputs": [],
   "source": [
    "def on_login_clicked(b):\n",
    "    with output_area:\n",
    "        clear_output()\n",
    "        username = username_input.value\n",
    "        password = password_input.value\n",
    "        users = load_users()\n",
    "        if username == ADMIN_USERNAME and bcrypt.checkpw(password.encode(), ADMIN_PASSWORD_HASH):\n",
    "            print(\"Administrator login successful\")\n",
    "            show_admin_controls()\n",
    "        elif username in users and check_password(users[username]['password'], password):\n",
    "            print(\"Login successful\")\n",
    "            show_user_controls(username)\n",
    "        else:\n",
    "            print(\"Invalid username or password\")\n",
    "\n",
    "def on_register_clicked(b):\n",
    "    with output_area:\n",
    "        clear_output()\n",
    "        username = username_input.value\n",
    "        password = password_input.value\n",
    "        users = load_users()\n",
    "        if username in users:\n",
    "            print(\"Username already exists\")\n",
    "        else:\n",
    "            users[username] = {\n",
    "                'password': hash_password(password),\n",
    "                'created': datetime.now().strftime(\"%Y-%m-%d\"),\n",
    "                'role': 'user'\n",
    "            }\n",
    "            save_users(users)\n",
    "            print(\"User registered successfully\")\n",
    "            show_user_controls(username)\n"
   ]
  },
  {
   "cell_type": "markdown",
   "id": "4c58f747-097d-44c7-aa3e-6efb3ea63d6b",
   "metadata": {},
   "source": [
    "## User Interface Components\n",
    "\n",
    "Defines interactive GUI elements using `ipywidgets`, including input fields, buttons, and output areas.\n"
   ]
  },
  {
   "cell_type": "code",
   "execution_count": 10,
   "id": "752fae00-f19d-4539-b2fa-2d8c9d8e1c75",
   "metadata": {},
   "outputs": [],
   "source": [
    "username_input = widgets.Text(description=\"Username:\")\n",
    "password_input = widgets.Password(description=\"Password:\")\n",
    "login_button = widgets.Button(description=\"Login\")\n",
    "register_button = widgets.Button(description=\"Register\")\n",
    "output_area = widgets.Output()\n",
    "\n",
    "login_button.on_click(on_login_clicked)\n",
    "register_button.on_click(on_register_clicked)"
   ]
  },
  {
   "cell_type": "markdown",
   "id": "1a84ff55-a608-4aff-aeaa-d12bcdc37e37",
   "metadata": {},
   "source": [
    "## Admin and User Controls\n",
    "\n",
    "This section includes functions that display admin-specific controls such as viewing all registered users, and user-specific controls like document management options (encrypt, decrypt, sign, verify). Each set of controls is displayed based on the user's role after a successful login.\n"
   ]
  },
  {
   "cell_type": "code",
   "execution_count": 11,
   "id": "d06c4495-9d5d-4173-8f08-195ef9c13033",
   "metadata": {},
   "outputs": [
    {
     "data": {
      "application/vnd.jupyter.widget-view+json": {
       "model_id": "4a76fea6482e450da7947bfbe493c3c7",
       "version_major": 2,
       "version_minor": 0
      },
      "text/plain": [
       "Text(value='', description='Username:')"
      ]
     },
     "metadata": {},
     "output_type": "display_data"
    },
    {
     "data": {
      "application/vnd.jupyter.widget-view+json": {
       "model_id": "a5f4953e492848ca823deb2d308d03aa",
       "version_major": 2,
       "version_minor": 0
      },
      "text/plain": [
       "Password(description='Password:')"
      ]
     },
     "metadata": {},
     "output_type": "display_data"
    },
    {
     "data": {
      "application/vnd.jupyter.widget-view+json": {
       "model_id": "9ecac2bec65e4d98ab16844e49cc5b4d",
       "version_major": 2,
       "version_minor": 0
      },
      "text/plain": [
       "Button(description='Login', style=ButtonStyle())"
      ]
     },
     "metadata": {},
     "output_type": "display_data"
    },
    {
     "data": {
      "application/vnd.jupyter.widget-view+json": {
       "model_id": "2b6ddb953b0443678056d5eb8e86ada8",
       "version_major": 2,
       "version_minor": 0
      },
      "text/plain": [
       "Button(description='Register', style=ButtonStyle())"
      ]
     },
     "metadata": {},
     "output_type": "display_data"
    },
    {
     "data": {
      "application/vnd.jupyter.widget-view+json": {
       "model_id": "b34c1f596fab4bd88b7ed8a4bd4ee6d5",
       "version_major": 2,
       "version_minor": 0
      },
      "text/plain": [
       "Output()"
      ]
     },
     "metadata": {},
     "output_type": "display_data"
    }
   ],
   "source": [
    "def show_admin_controls():\n",
    "    clear_output()\n",
    "    admin_output = widgets.Output()\n",
    "    refresh_button = widgets.Button(description=\"Refresh User List\")\n",
    "    user_list = widgets.Select(options=[])\n",
    "\n",
    "    def refresh_users():\n",
    "        with admin_output:\n",
    "            clear_output()\n",
    "            users = load_users()\n",
    "            user_list.options = [(user, details) for user, details in users.items()]\n",
    "            display(user_list)\n",
    "\n",
    "    refresh_button.on_click(lambda b: refresh_users())\n",
    "    display(refresh_button, admin_output)\n",
    "    refresh_users()\n",
    "\n",
    "def show_user_controls(username):\n",
    "    clear_output()\n",
    "    user_output = widgets.Output()\n",
    "\n",
    "    # Widget for file upload\n",
    "    file_selector = widgets.FileUpload(\n",
    "        description=\"Upload Document\",\n",
    "        multiple=False,\n",
    "        accept='',  # You can restrict file types e.g., '.txt,.pdf'\n",
    "        style={'description_width': 'initial'}\n",
    "    )\n",
    "\n",
    "    # Define the function to handle file upload\n",
    "    def handle_file_upload(change):\n",
    "        for uploaded_filename in change['new']:\n",
    "            file_info = file_selector.value[uploaded_filename]\n",
    "            with open(uploaded_filename, 'wb') as f:\n",
    "                f.write(file_info['content'])\n",
    "            print(f\"{uploaded_filename} has been saved to the current directory and is ready for processing.\")\n",
    "\n",
    "    # Observe file upload events\n",
    "    file_selector.observe(handle_file_upload, names='data')\n",
    "\n",
    "    # Buttons for document management actions\n",
    "    encrypt_button = widgets.Button(description=\"Encrypt Document\")\n",
    "    decrypt_button = widgets.Button(description=\"Decrypt Document\")\n",
    "    sign_button = widgets.Button(description=\"Sign Document\")\n",
    "    verify_button = widgets.Button(description=\"Verify Document\")\n",
    "\n",
    "\n",
    "    # Function to handle document encryption\n",
    "    def encrypt_document(b):\n",
    "        with user_output:\n",
    "            clear_output()\n",
    "            print(\"Encrypt button clicked\")\n",
    "            if not file_selector.value:\n",
    "                print(\"No file selected. Please upload a file.\")\n",
    "                return\n",
    "            \n",
    "            try:\n",
    "                # Extract the first element from the tuple and access its dictionary\n",
    "                file_info = file_selector.value[0]  # Assuming the tuple contains at least one item\n",
    "\n",
    "                secret_key_encoded = keyring.get_password(\"CyberGuardian\", \"encryption_key\")\n",
    "                if not secret_key_encoded:\n",
    "                    print(\"Encryption key not found in keyring.\")\n",
    "                    return\n",
    "                \n",
    "                secret_key = base64.b64decode(secret_key_encoded)\n",
    "                box = SecretBox(secret_key)\n",
    "                encrypted = box.encrypt(file_info['content'])\n",
    "                encrypted_file_path = file_info['name'] + \".enc\"\n",
    "                with open(encrypted_file_path, 'wb') as enc_file:\n",
    "                    enc_file.write(encrypted)\n",
    "                print(f\"File encrypted successfully. Saved as {encrypted_file_path}\")\n",
    "            except Exception as e:\n",
    "                print(f\"An error occurred during the encryption process: {str(e)}\")\n",
    "\n",
    "    \n",
    "    def decrypt_document(b):\n",
    "        with user_output:\n",
    "            clear_output()\n",
    "            print(\"Decrypt button clicked\")\n",
    "            if not file_selector.value:\n",
    "                print(\"No file selected. Please upload a file.\")\n",
    "                return\n",
    "\n",
    "            try:\n",
    "                file_info = file_selector.value[0]  # Accessing the first file info in the tuple\n",
    "                content = file_info['content']\n",
    "                if isinstance(content, memoryview):\n",
    "                    content = content.tobytes()  # Convert memoryview to bytes\n",
    "\n",
    "                secret_key_encoded = keyring.get_password(\"CyberGuardian\", \"encryption_key\")\n",
    "                if not secret_key_encoded:\n",
    "                    print(\"Encryption key not found in keyring.\")\n",
    "                    return\n",
    "\n",
    "                secret_key = base64.b64decode(secret_key_encoded)\n",
    "                box = SecretBox(secret_key)\n",
    "                decrypted = box.decrypt(content)  # Use the converted bytes here\n",
    "                decrypted_file_path = file_info['name'].replace(\".enc\", \"\")\n",
    "                with open(decrypted_file_path, 'wb') as dec_file:\n",
    "                    dec_file.write(decrypted)\n",
    "                print(f\"File decrypted successfully. Saved as {decrypted_file_path}\")\n",
    "            except Exception as e:\n",
    "                print(f\"An error occurred during the decryption process: {str(e)}\")\n",
    "\n",
    "\n",
    "    # Similarly define decrypt_document, sign_document, verify_document'\n",
    "    def sign_document(b):\n",
    "        with user_output:\n",
    "            clear_output()\n",
    "            print(\"Sign button clicked\")\n",
    "            if not file_selector.value:\n",
    "                print(\"No file selected. Please upload a file.\")\n",
    "                return\n",
    "\n",
    "            try:\n",
    "                file_info = file_selector.value[0]  # Accessing the first file info in the tuple\n",
    "                content = file_info['content']\n",
    "                if isinstance(content, memoryview):\n",
    "                    content = content.tobytes()  # Convert memoryview to bytes\n",
    "\n",
    "                signing_key_encoded = keyring.get_password(\"CyberGuardian\", \"signing_key\")\n",
    "                if not signing_key_encoded:\n",
    "                    print(\"Signing key not found in keyring.\")\n",
    "                    return\n",
    "\n",
    "                signing_key = SigningKey(signing_key_encoded, encoder=HexEncoder)\n",
    "                signature = signing_key.sign(content).signature  # Use the converted bytes here\n",
    "                signature_file_path = file_info['name'] + \".sig\"\n",
    "                with open(signature_file_path, 'wb') as sig_file:\n",
    "                    sig_file.write(signature)\n",
    "                print(f\"Document signed successfully. Signature saved as {signature_file_path}\")\n",
    "            except Exception as e:\n",
    "                print(f\"An error occurred during the signing process: {str(e)}\")\n",
    "\n",
    "        # Retrieve the verification key from the keyring\n",
    "    verify_key_encoded = keyring.get_password(\"CyberGuardian\", \"public_signing_key\")\n",
    "    if not verify_key_encoded:\n",
    "        print(\"Verification key not found in keyring.\")\n",
    "        return\n",
    "    else:\n",
    "        verify_key = VerifyKey(verify_key_encoded.encode(), encoder=HexEncoder)\n",
    "\n",
    "\n",
    "\n",
    "    def verify_document(b):\n",
    "        with user_output:\n",
    "            clear_output()\n",
    "            print(\"Verify button clicked\")\n",
    "        \n",
    "            if not file_selector.value:\n",
    "                print(\"No file selected. Please upload a signature file.\")\n",
    "                return\n",
    "        \n",
    "            # Retrieve the verification key from the keyring\n",
    "            verify_key_encoded = keyring.get_password(\"CyberGuardian\", \"public_signing_key\")\n",
    "            if not verify_key_encoded:\n",
    "                print(\"Verification key not found in keyring.\")\n",
    "                return\n",
    "            verify_key = VerifyKey(verify_key_encoded.encode(), encoder=HexEncoder)\n",
    "        \n",
    "            try:\n",
    "                file_info = file_selector.value[0]\n",
    "                signature_filename = file_info['name']\n",
    "        \n",
    "                if not signature_filename.endswith('.sig'):\n",
    "                    print(\"The uploaded file does not appear to be a signature file.\")\n",
    "                    return\n",
    "                    \n",
    "                document_filename = signature_filename[:-4]  # Assuming '.sig' is at the end\n",
    "                document_path = os.path.join(os.getcwd(), document_filename)\n",
    "        \n",
    "                if os.path.exists(document_path):\n",
    "                    with open(document_path, 'rb') as doc_file:\n",
    "                        document_content = doc_file.read()\n",
    "        \n",
    "                    signature_content = file_info['content']\n",
    "                    if isinstance(signature_content, memoryview):\n",
    "                        signature_content = signature_content.tobytes()\n",
    "        \n",
    "                    verify_key.verify(document_content, signature_content)\n",
    "                    print(f\"Verification successful for {document_filename}\")\n",
    "                else:\n",
    "                    print(f\"No corresponding document found for {signature_filename} in the current directory.\")\n",
    "            except Exception as e:\n",
    "                print(f\"An error occurred during the verification process: {str(e)}\")\n",
    "\n",
    "\n",
    "     \n",
    "    # Binding buttons to their respective functions\n",
    "    encrypt_button.on_click(encrypt_document)\n",
    "    decrypt_button.on_click(decrypt_document)\n",
    "    sign_button.on_click(sign_document)\n",
    "    verify_button.on_click(verify_document)\n",
    "\n",
    "    # Display the widgets\n",
    "    display(widgets.VBox([file_selector, encrypt_button, decrypt_button, sign_button, verify_button, user_output]))\n",
    "\n",
    "display(username_input, password_input, login_button, register_button, output_area)"
   ]
  },
  {
   "cell_type": "markdown",
   "id": "9595ec58-4b34-4fde-8010-c312c28f12a0",
   "metadata": {},
   "source": [
    "## Conclusion\n",
    "\n",
    "Cyber Guardian provides an intuitive interface for managing and securing documents through cryptographic operations. The comprehensive functionality includes secure user management, robust encryption, decryption, and signing, making it a powerful solution for data protection."
   ]
  }
 ],
 "metadata": {
  "kernelspec": {
   "display_name": "Python 3 (ipykernel)",
   "language": "python",
   "name": "python3"
  },
  "language_info": {
   "codemirror_mode": {
    "name": "ipython",
    "version": 3
   },
   "file_extension": ".py",
   "mimetype": "text/x-python",
   "name": "python",
   "nbconvert_exporter": "python",
   "pygments_lexer": "ipython3",
   "version": "3.11.5"
  }
 },
 "nbformat": 4,
 "nbformat_minor": 5
}
